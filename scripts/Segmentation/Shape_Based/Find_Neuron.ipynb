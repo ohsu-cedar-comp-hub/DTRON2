{
 "cells": [
  {
   "cell_type": "markdown",
   "metadata": {},
   "source": [
    "# SHAPE-BASED SEMI-AUTOMATED SEGMENTATION OF NEURONAL INNERVATION"
   ]
  },
  {
   "cell_type": "markdown",
   "metadata": {},
   "source": [
    "Author: Christopher Z. Eddy\n",
    "\n",
    "This pipeline is designed to import immunofluorescence images of axonal components of nerves within 2D samples, process the image with rolling-ball background subtraction of radius R = 5 pixels, a 99.99th percentile renormalization, and top-hat operation with a rectangular structuring element, followed by Moments threshold to segment \"innervation objects\". The objects are then measured using regionprops, as well as features of the background. We apply several simple thresholds for objects, such as a circularity less than 0.5 (large perimeter, small area) and aspect ratio greater than 2 (elongated). Finally, we use dimensionality reduction (PCA, UMAP) and clustering (K-Means) to identify 'types' of segmented objects, under the assumption that some objects are not true neuron axons and can be filtered out by identifying their subcluster. We save each cluster's segmentations for subsequent downstream analysis. "
   ]
  },
  {
   "cell_type": "markdown",
   "metadata": {},
   "source": [
    "We can further enrich this analysis by adding additional shape features that further delineate axon signatures from autofluorescence. Please update the code as you see fit. Included later in this script is an \"artificial image\" of manually created shapes where you can investigate your proposed thresholding.\n",
    "\n",
    "*********************************************************************************************************************************"
   ]
  },
  {
   "cell_type": "markdown",
   "metadata": {},
   "source": [
    "### Perform library imports, define helper functions"
   ]
  },
  {
   "cell_type": "code",
   "execution_count": 1,
   "metadata": {},
   "outputs": [],
   "source": [
    "import os \n",
    "import numpy as np\n",
    "import glob\n",
    "from skimage import io, restoration, exposure\n",
    "from skimage.measure import regionprops_table, label\n",
    "from scipy.ndimage import binary_fill_holes\n",
    "import cv2\n",
    "import pandas as pd\n",
    "#the following import may be problematic.\n",
    "from PIL import Image\n",
    "Image.MAX_IMAGE_PIXELS = None #images may be really large, this is how to overcome error.\n",
    "from skimage.segmentation import expand_labels\n",
    "from skimage.morphology import skeletonize, white_tophat, black_tophat, opening, closing, rectangle\n",
    "from scipy.ndimage.interpolation import rotate\n",
    "import copy\n",
    "import psutil"
   ]
  },
  {
   "cell_type": "markdown",
   "metadata": {},
   "source": [
    "We will also define a progress bar that helps to track how much longer we have to run."
   ]
  },
  {
   "cell_type": "code",
   "execution_count": 2,
   "metadata": {},
   "outputs": [],
   "source": [
    "def progbar(curr, total, full_progbar):\n",
    "\tfrac = curr/total\n",
    "\tfilled_progbar = round(frac*full_progbar)\n",
    "\tprint('\\r', '#'*filled_progbar + '-'*(full_progbar-filled_progbar), '[{:>7.2%}]'.format(frac), end='')\n",
    "\tsys.stdout.flush()"
   ]
  },
  {
   "cell_type": "markdown",
   "metadata": {},
   "source": [
    "We'll create a function to import all the necessary filenames, capable of a recursive search."
   ]
  },
  {
   "cell_type": "code",
   "execution_count": 3,
   "metadata": {},
   "outputs": [],
   "source": [
    "def import_filenames(filepath, pattern, recursive = False):\n",
    "        \"\"\"\n",
    "        PURPOSE: Imports ALL files from a chosen folder\n",
    "        INPUTS\n",
    "        -------------------------------------------------------------\n",
    "        pattern = list of strings with particular patterns, including filetype! \n",
    "                ex: ['_patched','.csv'] will pull any csv files under filepath with the string '_patched' in its file name.\n",
    "\n",
    "        filepath = string, path for where to search for image files \n",
    "                ex: \"/users/<username>/folder\"\n",
    "\n",
    "        recursive = boolean, True if you wish for the search for files to be recursive under filepath.\n",
    "        \"\"\"\n",
    "        #generate pattern finding \n",
    "        fpattern = ['**{}'.format(x) for i,x in enumerate(pattern)]\n",
    "        fpattern = ''.join(fpattern)\n",
    "        #first, get all the filenames in the chosen directory.\n",
    "        #root directory needs a trailing slash\n",
    "        # if filepath[-1]!=\"/\":\n",
    "        #         filepath = filepath+\"/\"\n",
    "        fnames = [filename for filename in glob.iglob(filepath + '**/' + fpattern, recursive=recursive)] #best for recursive search one liner.\n",
    "        #fnames = [x for x in os.listdir(self.filepath) if \".csv\" in x]\n",
    "        fnames = [x for x in fnames if x[0]!=\".\"] #delete hidden files\n",
    "        fnames.sort() #sort based on name\n",
    "        return fnames"
   ]
  },
  {
   "cell_type": "markdown",
   "metadata": {},
   "source": [
    "Define a function to interpret how much memory we are using at the current step."
   ]
  },
  {
   "cell_type": "code",
   "execution_count": 4,
   "metadata": {},
   "outputs": [],
   "source": [
    "def calculate_mem_usage():\n",
    "    # you can have the percentage of used RAM\n",
    "    print(\"% Memory used: {}\".format(psutil.virtual_memory().percent))"
   ]
  },
  {
   "cell_type": "markdown",
   "metadata": {},
   "source": [
    "### DATA IMPORTS\n",
    "Specify the path in which to look for your image files, and provide the pattern in which they are given. If you look for filenames with a particular extension (i.e. '.png'), or a certain pattern in the filename itself (ex. '_subtracted_'), you can also give that in the list of pattern."
   ]
  },
  {
   "cell_type": "code",
   "execution_count": 5,
   "metadata": {},
   "outputs": [
    {
     "name": "stdout",
     "output_type": "stream",
     "text": [
      "Filepaths = \n",
      "/home/exacloud/gscratch/CEDAR/cIFimaging/Cyclic_Workflow/2021_DTRON_Neuron/17633-scene0-3/17633-scene0-3_tiffs - Segmentation/Scene XXX - TUBB3 SBcells.png\n",
      "/home/exacloud/gscratch/CEDAR/cIFimaging/Cyclic_Workflow/2021_DTRON_Neuron/19142-3/19142-3_tiffs - Segmentation/Scene XXX - TUBB3 SBcells.png\n",
      "/home/exacloud/gscratch/CEDAR/cIFimaging/Cyclic_Workflow/2021_DTRON_Neuron/24952-3/24952-3_tiffs - Segmentation/Scene XXX - TUBB3 SBcells.png\n",
      "/home/exacloud/gscratch/CEDAR/cIFimaging/Cyclic_Workflow/2021_DTRON_Neuron/30403-3/30403-3_tiffs - Segmentation/Scene XXX - TUBB3 SBcells.png\n",
      "/home/exacloud/gscratch/CEDAR/cIFimaging/Cyclic_Workflow/2021_DTRON_Neuron/30411-3/30411-3_tiffs - Segmentation/Scene XXX - TUBB3 SBcells.png\n",
      "/home/exacloud/gscratch/CEDAR/cIFimaging/Cyclic_Workflow/2021_DTRON_Neuron/31022-scene0-3/31022-scene0-3_tiffs - Segmentation/Scene XXX - TUBB3 SBcells.png\n",
      "/home/exacloud/gscratch/CEDAR/cIFimaging/Cyclic_Workflow/2021_DTRON_Neuron/31476-3/31476-3_tiffs - Segmentation/Scene XXX - TUBB3 SBcells.png\n",
      "/home/exacloud/gscratch/CEDAR/cIFimaging/Cyclic_Workflow/2021_DTRON_Neuron/31480-3/31480-3_tiffs - Segmentation/Scene XXX - TUBB3 SBcells.png\n",
      "/home/exacloud/gscratch/CEDAR/cIFimaging/Cyclic_Workflow/2021_DTRON_Neuron/33548-scene00-3/33548-scene00-3_tiffs - Segmentation/Scene XXX - TUBB3 SBcells.png\n",
      "/home/exacloud/gscratch/CEDAR/cIFimaging/Cyclic_Workflow/2021_DTRON_Neuron/38592-3/38592-3_tiffs - Segmentation/Scene XXX - TUBB3 SBcells.png\n",
      "/home/exacloud/gscratch/CEDAR/cIFimaging/Cyclic_Workflow/2021_DTRON_Neuron/48411-3/48411-3_tiffs - Segmentation/Scene XXX - TUBB3 SBcells.png\n",
      "/home/exacloud/gscratch/CEDAR/cIFimaging/Cyclic_Workflow/2021_DTRON_Neuron/54774-3/54774-3_tiffs - Segmentation/Scene XXX - TUBB3 SBcells.png\n",
      "/home/exacloud/gscratch/CEDAR/cIFimaging/Cyclic_Workflow/2021_DTRON_Neuron/54776-3/54776-3_tiffs - Segmentation/Scene XXX - TUBB3 SBcells.png\n",
      "/home/exacloud/gscratch/CEDAR/cIFimaging/Cyclic_Workflow/2021_DTRON_Neuron/57494-3/57494-3_tiffs - Segmentation/Scene XXX - TUBB3 SBcells.png\n",
      "/home/exacloud/gscratch/CEDAR/cIFimaging/Cyclic_Workflow/2021_DTRON_Neuron/57657-3/57657-3_tiffs - Segmentation/Scene XXX - TUBB3 SBcells.png\n",
      "/home/exacloud/gscratch/CEDAR/cIFimaging/Cyclic_Workflow/2021_DTRON_Neuron/57658-3/57658-3_tiffs - Segmentation/Scene XXX - TUBB3 SBcells.png\n",
      "/home/exacloud/gscratch/CEDAR/cIFimaging/Cyclic_Workflow/2021_DTRON_Neuron/92352-3/92352-3_tiffs - Segmentation/Scene XXX - TUBB3 SBcells.png\n",
      "Save path = /home/exacloud/gscratch/CEDAR/cIFimaging/Cyclic_Workflow/2021_DTRON_Neuron/shape_based_segmentation\n"
     ]
    }
   ],
   "source": [
    "#specify the filepath for where to recursively search for .CSV files\n",
    "search_path = \"/home/exacloud/gscratch/CEDAR/cIFimaging/Cyclic_Workflow/2021_DTRON_Neuron\"\n",
    "pattern = ['Scene XXX - TUBB3 SBcells.png']\n",
    "\n",
    "############################################################################################\n",
    "paths = [\"19142-3/19142-3_tiffs - Segmentation/Scene XXX - TUBB3 SBcells.png\",\n",
    "\"30411-3/30411-3_tiffs - Segmentation/Scene XXX - TUBB3 SBcells.png\",\n",
    "\"30403-3/30403-3_tiffs - Segmentation/Scene XXX - TUBB3 SBcells.png\",\n",
    "\"57494-3/57494-3_tiffs - Segmentation/Scene XXX - TUBB3 SBcells.png\",\n",
    "\"31480-3/31480-3_tiffs - Segmentation/Scene XXX - TUBB3 SBcells.png\",\n",
    "\"31022-scene0-3/31022-scene0-3_tiffs - Segmentation/Scene XXX - TUBB3 SBcells.png\",\n",
    "\"24952-3/24952-3_tiffs - Segmentation/Scene XXX - TUBB3 SBcells.png\",\n",
    "\"92352-3/92352-3_tiffs - Segmentation/Scene XXX - TUBB3 SBcells.png\",\n",
    "\"38592-3/38592-3_tiffs - Segmentation/Scene XXX - TUBB3 SBcells.png\",\n",
    "\"57657-3/57657-3_tiffs - Segmentation/Scene XXX - TUBB3 SBcells.png\",\n",
    "\"57658-3/57658-3_tiffs - Segmentation/Scene XXX - TUBB3 SBcells.png\",\n",
    "\"54774-3/54774-3_tiffs - Segmentation/Scene XXX - TUBB3 SBcells.png\",\n",
    "\"48411-3/48411-3_tiffs - Segmentation/Scene XXX - TUBB3 SBcells.png\",\n",
    "\"17633-scene0-3/17633-scene0-3_tiffs - Segmentation/Scene XXX - TUBB3 SBcells.png\",\n",
    "\"54776-3/54776-3_tiffs - Segmentation/Scene XXX - TUBB3 SBcells.png\",\n",
    "\"31476-3/31476-3_tiffs - Segmentation/Scene XXX - TUBB3 SBcells.png\",\n",
    "\"33548-scene00-3/33548-scene00-3_tiffs - Segmentation/Scene XXX - TUBB3 SBcells.png\"]\n",
    "\n",
    "paths = [os.path.join(search_path,x) for x in paths]\n",
    "\n",
    "save_path = \"/home/exacloud/gscratch/CEDAR/cIFimaging/Cyclic_Workflow/2021_DTRON_Neuron/shape_based_segmentation\"\n",
    "paths.sort()\n",
    "print(\"Filepaths = \")\n",
    "for x in paths:\n",
    "    print(x)\n",
    "print(\"Save path = {}\".format(save_path))"
   ]
  },
  {
   "cell_type": "markdown",
   "metadata": {},
   "source": [
    "Import the filenames, and define the rolling ball radius background subtraction size for the macro. This step is very important. There is a lot of autofluorescence that needs to be subtracted, but critically the neuronal innervation are made up of thin extensions that are ~5 pixels in width. Using a larger background radius will not allow the algorithm to subtract out the larger cell autofluorescence. \n",
    "You can define more than 1 size of background subtraction if you wish. If more than 1 radius is provided, the original image is background subtracted, then thresholded once for each size of background subtraction. The resultant binary images are then \"added\" together to give a single, final result. \n",
    "\n",
    "UPDATE: Note that some preprocess pipelines do not use the user-defined rolling ball radii defined here, but rather in the function definition. Please look carefully below."
   ]
  },
  {
   "cell_type": "markdown",
   "metadata": {},
   "source": [
    "### Define a threshold function, using Moments."
   ]
  },
  {
   "cell_type": "code",
   "execution_count": 6,
   "metadata": {},
   "outputs": [],
   "source": [
    "def Moments_Thresh(image):\n",
    "    #H, S, B = cv2.split(img) # spliting the image into HSB\n",
    "    grey_value = np.arange(256)\n",
    "    B_freq = cv2.calcHist([image], [0],None,[256],[0,255])\n",
    "    B_freq = B_freq.reshape((256,))\n",
    "    B_freq = np.int64(B_freq)\n",
    "    B_histo = (B_freq, grey_value)\n",
    "\n",
    "    pix_sum = img.shape[0]*img.shape[1] # calculating the sum of the pixels\n",
    "\n",
    "    #from the paper, calculating the 3 first odrers\n",
    "\n",
    "    pj = B_histo[0] / pix_sum \n",
    "    pj_z1 = np.power(B_histo[1], 1) * pj\n",
    "    pj_z2 = np.power(B_histo[1], 2) * pj\n",
    "    pj_z3 = np.power(B_histo[1], 3) * pj\n",
    "\n",
    "    m0 = np.sum(pj)\n",
    "    m1 = np.sum(pj_z1)\n",
    "    m2 = np.sum(pj_z2)\n",
    "    m3 = np.sum(pj_z3)\n",
    "\n",
    "    cd = (m0*m2) - (m1*m1)\n",
    "    c0 = ((-m2*m2) - (-m3*m1))/cd\n",
    "    c1 = ((m0*-m3) - (m1*-m2))/cd\n",
    "\n",
    "\n",
    "    z0 = 0.5 *(-c1 - (np.power(np.power(c1, 2) - 4*c0, 1/2)))\n",
    "    z1 = 0.5 *(-c1 + (np.power(np.power(c1, 2) - 4*c0, 1/2)))\n",
    "\n",
    "    pd = z1 - z0\n",
    "    p0 = (z1 - m1) / pd # p0 should be the percentage of the pixels to which the threshold t should be done\n",
    "\n",
    "    # using cumulative histogram and comparing it to a target value by calculating the difference. When the difference is the lowest, the index indicates the value of the threshold t\n",
    "    cum_pix = np.cumsum(B_freq) \n",
    "    target_value = p0 * pix_sum\n",
    "\n",
    "    diff = [(i - target_value) for i in cum_pix]\n",
    "\n",
    "    t = diff.index(find_nearest(diff, 0))\n",
    "    return t\n",
    "\n",
    "def apply_thresh(image, thresh):\n",
    "    return binary_fill_holes(image>=thresh)\n",
    "\n",
    "def find_nearest(array, value):\n",
    "        array = np.asarray(array)\n",
    "        idx = (np.abs(array - value)).argmin()\n",
    "        return array[idx]\n",
    "    "
   ]
  },
  {
   "cell_type": "markdown",
   "metadata": {},
   "source": [
    "### Define image pre-processing pipeline\n",
    "Does not include the top-hat operation"
   ]
  },
  {
   "cell_type": "code",
   "execution_count": 7,
   "metadata": {},
   "outputs": [],
   "source": [
    "def preprocess_image(image, radius=8):\n",
    "    #need to convert to a uint8. \n",
    "    image = image/65535\n",
    "    image *= 255 \n",
    "    image = image.astype(np.uint8)\n",
    "    # min,max = image.min(), image.max()\n",
    "    # rescaled = (image - min)/(max-min)\n",
    "    # percentiles = np.percentile(rescaled, (0.5, 99.5))\n",
    "    #scaled = exposure.rescale_intensity(rescaled, in_range=tuple(percentiles))\n",
    "    percentiles = np.percentile(image, (0.5, 99.5))\n",
    "    image = exposure.rescale_intensity(image, in_range=tuple(percentiles))\n",
    "    background = restoration.rolling_ball(image, radius=8)\n",
    "    image=image-background\n",
    "    return result"
   ]
  },
  {
   "cell_type": "code",
   "execution_count": 8,
   "metadata": {},
   "outputs": [],
   "source": [
    "def preprocess_image_v2(image, radius=8):\n",
    "    #need to convert to a uint8.\n",
    "    min,max = image.min(), image.max()\n",
    "    print('rescaling')\n",
    "    image = (image - min)/(max-min)\n",
    "    print('taking percentiles')\n",
    "    percentiles = np.percentile(image, (0.5, 99.5))\n",
    "    image = exposure.rescale_intensity(image, in_range=tuple(percentiles))\n",
    "    # percentiles = np.percentile(image, (0.5, 99.5))\n",
    "    # scaled = exposure.rescale_intensity(image, in_range=tuple(percentiles))\n",
    "    image *= 255\n",
    "    image = image.astype(np.uint8)\n",
    "    print('subtracting background')\n",
    "    background = restoration.rolling_ball(image, radius=radius)\n",
    "    image=image-background\n",
    "    print('rescaling preprocessed output')\n",
    "    min,max = image.min(), image.max()\n",
    "    image = (image - min)/(max-min)\n",
    "    image *= 255\n",
    "    image = image.astype(np.uint8)\n",
    "    return image"
   ]
  },
  {
   "cell_type": "code",
   "execution_count": 9,
   "metadata": {},
   "outputs": [],
   "source": [
    "def preprocess_image_v3(image, radius=8):\n",
    "    #rolling_ball cannot handle a uint8. If you use a floating point 0-1 this may also present an issue with the radius. \n",
    "    print('subtracting background')\n",
    "    background = restoration.rolling_ball(image, radius=radius)\n",
    "    image=image-background\n",
    "\n",
    "    print('rescaling preprocessed output')\n",
    "    min,max = image.min(), image.max()\n",
    "    image = (image - min)/(max-min)\n",
    "    image *= 255\n",
    "    image = image.astype(np.uint8)\n",
    "    print('taking percentiles')\n",
    "    percentiles = np.percentile(image, (0.5, 99.5))\n",
    "    image = exposure.rescale_intensity(image, in_range=tuple(percentiles))\n",
    "    # percentiles = np.percentile(image, (0.5, 99.5))\n",
    "    # scaled = exposure.rescale_intensity(image, in_range=tuple(percentiles))\n",
    "    return image"
   ]
  },
  {
   "cell_type": "code",
   "execution_count": 10,
   "metadata": {},
   "outputs": [],
   "source": [
    "def preprocess_image_v4(image, im_max = 65535):\n",
    "\n",
    "    print('rescaling preprocessed output')\n",
    "    image = image / im_max #rescale. \n",
    "    image *= 255\n",
    "    image = image.astype(np.uint8)\n",
    "\n",
    "    \"\"\"\n",
    "    The following two transformations really do result in the best result for use with Top-hat!\n",
    "    \"\"\"\n",
    "    #rolling_ball cannot handle a uint8. If you use a floating point 0-1 this may also present an issue with the radius. \n",
    "    print('subtracting background')\n",
    "    rad = 25\n",
    "    background = restoration.rolling_ball(image, radius=rad)#, radius=radius) #the default radius is 100. \n",
    "    image=image-background\n",
    "\n",
    "    #scale. Ultimately, we wwill use the 99.99th percentile of data. \n",
    "    percentiles = np.percentile(image, (0.01, 99.99))\n",
    "    image = exposure.rescale_intensity(image, in_range=tuple(percentiles))\n",
    "\n",
    "    return image"
   ]
  },
  {
   "cell_type": "markdown",
   "metadata": {},
   "source": [
    "## Perform operations on images"
   ]
  },
  {
   "cell_type": "code",
   "execution_count": null,
   "metadata": {},
   "outputs": [
    {
     "name": "stdout",
     "output_type": "stream",
     "text": [
      "Reading image\n",
      "% Memory used: 14.4\n",
      "% Memory used: 14.8\n",
      "preprocessing image\n",
      "rescaling preprocessed output\n",
      "subtracting background\n"
     ]
    }
   ],
   "source": [
    "write_directories = True\n",
    "test = [paths[0]]\n",
    "for pth_i,path in enumerate(test):#paths):\n",
    "    if pth_i==0:\n",
    "        #progbar(pth_i, len(paths),20)\n",
    "        #make a folder in the subpath.\n",
    "        if write_directories:\n",
    "            save_pth = os.path.join(save_path, os.path.basename(os.path.dirname(os.path.dirname(x))))\n",
    "            if not os.path.isdir(save_pth): #make directory\n",
    "                os.mkdir(save_pth)\n",
    "        else:\n",
    "            save_pth = save_path\n",
    "        print(\"Reading image\")\n",
    "        calculate_mem_usage()\n",
    "        img = io.imread(path) #loads as a uint16\n",
    "        calculate_mem_usage()\n",
    "        print('preprocessing image')\n",
    "        img = preprocess_image_v4(img) #auto adjust brightness by scaling percentiles, and use rolling ball subtraction.\n",
    "        calculate_mem_usage()\n",
    "        ########ADDING TOP HAT OPERATION##########\n",
    "        se = rectangle(5,2) #https://scikit-image.org/docs/stable/auto_examples/numpy_operations/plot_structuring_elements.html\n",
    "        #https://en.wikipedia.org/wiki/Top-hat_transform\n",
    "\n",
    "        angles = list(range(0,180,15))\n",
    "        out = np.zeros_like(img)\n",
    "        for ai,angle in enumerate(angles):\n",
    "            progbar(ai, len(angles), 20)\n",
    "            #rotation matrix. \n",
    "            rotated_se = rotate(se, angle=angle)\n",
    "            #wth_my = img_not - opened\n",
    "            wth = white_tophat(img, rotated_se)\n",
    "            out = np.where(wth>out, wth, out)\n",
    "            # closed = closing(img, se)\n",
    "            # blh_my = closed - img\n",
    "            #io.imsave(pths[0]+'_white_hat_man.png', wth_my) #write as a png file\n",
    "        progbar(len(angles), len(angles), 20)\n",
    "        ############################################\n",
    "\n",
    "        pths = os.path.basename(path)[:-4]\n",
    "        #io.imsave(os.path.join(save_pth,pths)+'_white_hat.png', out) #write as a png file, uncomment if you wish to save\n",
    "        del img\n",
    "        img = copy.deepcopy(out)\n",
    "        del out\n",
    "\n",
    "        # #Find and apply the moments threshold. \n",
    "        # print('calculating threshold')\n",
    "        t = Moments_Thresh(img)\n",
    "        print('applying threshold')\n",
    "        thresh_im = apply_thresh(img,t)\n",
    "\n",
    "        #io.imsave(os.path.join(save_pth,pths)+'_binary.png', thresh_im) #write as a png file\n",
    "\n",
    "        #measure objects. Can we also include gray level stuff? Yes. Use skimage.measure\n",
    "        print('labeling')\n",
    "        lab_im=label(thresh_im, connectivity=1)\n",
    "        \n",
    "        #save the label image \n",
    "        io.imsave(os.path.join(save_pth,pths)+'_label.png', out)\n",
    "\n",
    "        print(\"Expanding background\")\n",
    "        #expand the labels\n",
    "        expanded = expand_labels(lab_im, distance=10) #here, we want to get info on their local regions\n",
    "        #I want to take intensity measurements on the objects expanded regions, I don't care about their shapes. \n",
    "        expanded = expanded - lab_im #that should work, since the objects aren't touching.\n",
    "        #io.imsave(os.path.join(save_pth,pths)+'_exp.png', expanded>0) #write as a png file\n",
    "        #I would like to verify this worked....\n",
    "        bg_props = regionprops_table(label_image=expanded, intensity_image=img, properties=('intensity_mean', 'intensity_max', 'label'))\n",
    "        bg_props = pd.DataFrame(bg_props)\n",
    "        bg_props.rename(columns={'intensity_mean': 'bg_int_mean', 'intensity_max': 'bg_int_max'}, inplace=True)\n",
    "\n",
    "        print(\"Skeletonizing objects\")\n",
    "        #let's incorporate the skeletonization of the image. \n",
    "        skel_lab = skeletonize(thresh_im)\n",
    "        skel_lab = np.where(skel_lab,lab_im,0)\n",
    "        #io.imsave(os.path.join(save_pth,pths)+'_skel.png', skel_lab>0) #write as a png file, uncomment if you want skeleton image.\n",
    "        \n",
    "        #now, let's evaluate    \n",
    "\n",
    "        print('Measuring object features')\n",
    "        props = regionprops_table(label_image=lab_im,intensity_image=img, properties=('area', 'solidity', 'perimeter_crofton', 'axis_major_length', 'axis_minor_length', 'intensity_mean', 'intensity_max', 'moments_weighted_hu', 'label'))\n",
    "\n",
    "        skel_props = regionprops_table(label_image=skel_lab, intensity_image=img, properties=('area','intensity_mean', 'intensity_max', 'label'))\n",
    "        #rename keys in skel_props dictionary.\n",
    "        skel_props = pd.DataFrame(skel_props)\n",
    "        skel_props.rename(columns={'area': 'skel_area', 'intensity_mean': 'skel_int_mean', 'intensity_max': 'skel_int_max'},inplace=True)\n",
    "\n",
    "        #convert to a pandas data table. \n",
    "        df = pd.DataFrame(props)\n",
    "        # if you have a thin line, the minor axis length is often zero. \n",
    "        df['axis_minor_length'].where(df['axis_minor_length'] >= 1, 1, inplace=True) #where here kind of works opposite as you expect it to, conditional wise that is. \n",
    "        #combine\n",
    "        df = df.merge(skel_props, left_on='label', right_on='label')\n",
    "        df = df.merge(bg_props, left_on='label', right_on='label')\n",
    "\n",
    "        #see the top 5 entries with df.head(5)\n",
    "        print('Adding measures')\n",
    "        #first, apply a basic size threshold \n",
    "        df.drop(df[df['area'] < 20].index, inplace=True) #eliminate random pixels.\n",
    "\n",
    "        #sometimes, if you have a line or a single pixel for example, perimeter is not measured correctly \n",
    "\n",
    "        #next, calculate circularity\n",
    "        df['circularity'] = 4 * np.pi * df['area'] / (df['perimeter_crofton'] * df['perimeter_crofton'])\n",
    "        #also aspect ratio\n",
    "        df['AR'] = df['axis_major_length'] / df['axis_minor_length']\n",
    "        #lets also do \n",
    "        df['rel_skel'] = df['skel_area'] / df['area']\n",
    "\n",
    "        #move label to the end. \n",
    "        columns = list(df.columns) \n",
    "        columns = [x for x in columns if \"label\" not in x] + [\"label\"] #put label last\n",
    "        df = df[columns]\n",
    "\n",
    "        print('Applying thresholds')\n",
    "        #okay, we want to screen cells based on circularity (large perimeter, small area)\n",
    "        df.drop(df[df['circularity']>0.5].index, inplace=True)\n",
    "\n",
    "        #okay, we want to screen cells based on aspect ratio\n",
    "        df.drop(df[df['AR']<2].index, inplace=True)\n",
    "\n",
    "        #lets drop \n",
    "        #df.drop(df[df['rel_skel'] < 0.4].index, inplace=True)\n",
    "\n",
    "        #finally, we'll screen out cell based on the maximum intensity within their regions. \n",
    "        # df.drop(df[df['intensity_max']<df.intensity_max.quantile(0.90)].index,inplace=True)\n",
    "\n",
    "        #finally, return the image you want. \n",
    "        print('creating output')\n",
    "        out = np.zeros(shape=img.shape,dtype=np.bool_)\n",
    "\n",
    "        for lab in df['label']:\n",
    "            out[lab_im==lab]=True\n",
    "\n",
    "        print('writing output')\n",
    "        #save the image\n",
    "        pths = os.path.splitext(path) #get file name and path.\n",
    "        io.imsave(os.path.join(save_pth,pths)+'_output.png', out) #write as a png file\n",
    "\n",
    "        #save the dataframe.\n",
    "        df.to_csv(os.path.join(save_pth,pths)+'_dataframe.csv',index=False)\n",
    "\n",
    "    # progbar(len(paths), len(paths),20)"
   ]
  },
  {
   "cell_type": "code",
   "execution_count": 21,
   "metadata": {},
   "outputs": [
    {
     "data": {
      "text/html": [
       "<div>\n",
       "<style scoped>\n",
       "    .dataframe tbody tr th:only-of-type {\n",
       "        vertical-align: middle;\n",
       "    }\n",
       "\n",
       "    .dataframe tbody tr th {\n",
       "        vertical-align: top;\n",
       "    }\n",
       "\n",
       "    .dataframe thead th {\n",
       "        text-align: right;\n",
       "    }\n",
       "</style>\n",
       "<table border=\"1\" class=\"dataframe\">\n",
       "  <thead>\n",
       "    <tr style=\"text-align: right;\">\n",
       "      <th></th>\n",
       "      <th>area</th>\n",
       "      <th>solidity</th>\n",
       "      <th>perimeter_crofton</th>\n",
       "      <th>axis_major_length</th>\n",
       "      <th>axis_minor_length</th>\n",
       "      <th>intensity_mean</th>\n",
       "      <th>intensity_max</th>\n",
       "      <th>moments_weighted_hu-0</th>\n",
       "      <th>moments_weighted_hu-1</th>\n",
       "      <th>moments_weighted_hu-2</th>\n",
       "      <th>...</th>\n",
       "      <th>moments_weighted_hu-6</th>\n",
       "      <th>skel_area</th>\n",
       "      <th>skel_int_mean</th>\n",
       "      <th>skel_int_max</th>\n",
       "      <th>bg_int_mean</th>\n",
       "      <th>bg_int_max</th>\n",
       "      <th>circularity</th>\n",
       "      <th>AR</th>\n",
       "      <th>rel_skel</th>\n",
       "      <th>label</th>\n",
       "    </tr>\n",
       "  </thead>\n",
       "  <tbody>\n",
       "    <tr>\n",
       "      <th>1064</th>\n",
       "      <td>37</td>\n",
       "      <td>0.698113</td>\n",
       "      <td>31.028016</td>\n",
       "      <td>13.764001</td>\n",
       "      <td>4.156725</td>\n",
       "      <td>22.216216</td>\n",
       "      <td>40.0</td>\n",
       "      <td>0.012666</td>\n",
       "      <td>0.000106</td>\n",
       "      <td>4.787077e-07</td>\n",
       "      <td>...</td>\n",
       "      <td>1.550085e-14</td>\n",
       "      <td>13</td>\n",
       "      <td>23.076923</td>\n",
       "      <td>40.0</td>\n",
       "      <td>1.826211</td>\n",
       "      <td>11.0</td>\n",
       "      <td>0.482952</td>\n",
       "      <td>3.311261</td>\n",
       "      <td>0.351351</td>\n",
       "      <td>1065</td>\n",
       "    </tr>\n",
       "    <tr>\n",
       "      <th>1322</th>\n",
       "      <td>64</td>\n",
       "      <td>0.727273</td>\n",
       "      <td>43.650203</td>\n",
       "      <td>17.181256</td>\n",
       "      <td>5.935178</td>\n",
       "      <td>42.437500</td>\n",
       "      <td>111.0</td>\n",
       "      <td>0.005939</td>\n",
       "      <td>0.000025</td>\n",
       "      <td>3.129123e-08</td>\n",
       "      <td>...</td>\n",
       "      <td>-9.170526e-17</td>\n",
       "      <td>16</td>\n",
       "      <td>53.750000</td>\n",
       "      <td>111.0</td>\n",
       "      <td>0.914634</td>\n",
       "      <td>11.0</td>\n",
       "      <td>0.422102</td>\n",
       "      <td>2.894817</td>\n",
       "      <td>0.250000</td>\n",
       "      <td>1323</td>\n",
       "    </tr>\n",
       "    <tr>\n",
       "      <th>1357</th>\n",
       "      <td>31</td>\n",
       "      <td>0.738095</td>\n",
       "      <td>30.702693</td>\n",
       "      <td>13.121992</td>\n",
       "      <td>3.335021</td>\n",
       "      <td>14.129032</td>\n",
       "      <td>23.0</td>\n",
       "      <td>0.024725</td>\n",
       "      <td>0.000477</td>\n",
       "      <td>1.160247e-06</td>\n",
       "      <td>...</td>\n",
       "      <td>8.029328e-14</td>\n",
       "      <td>11</td>\n",
       "      <td>15.090909</td>\n",
       "      <td>18.0</td>\n",
       "      <td>1.864615</td>\n",
       "      <td>6.0</td>\n",
       "      <td>0.413255</td>\n",
       "      <td>3.934605</td>\n",
       "      <td>0.354839</td>\n",
       "      <td>1358</td>\n",
       "    </tr>\n",
       "    <tr>\n",
       "      <th>1370</th>\n",
       "      <td>37</td>\n",
       "      <td>0.578125</td>\n",
       "      <td>43.650203</td>\n",
       "      <td>13.440230</td>\n",
       "      <td>5.714420</td>\n",
       "      <td>14.378378</td>\n",
       "      <td>18.0</td>\n",
       "      <td>0.024421</td>\n",
       "      <td>0.000299</td>\n",
       "      <td>2.808683e-06</td>\n",
       "      <td>...</td>\n",
       "      <td>-1.558522e-13</td>\n",
       "      <td>16</td>\n",
       "      <td>14.812500</td>\n",
       "      <td>18.0</td>\n",
       "      <td>1.299401</td>\n",
       "      <td>11.0</td>\n",
       "      <td>0.244028</td>\n",
       "      <td>2.351985</td>\n",
       "      <td>0.432432</td>\n",
       "      <td>1371</td>\n",
       "    </tr>\n",
       "    <tr>\n",
       "      <th>1439</th>\n",
       "      <td>183</td>\n",
       "      <td>0.448529</td>\n",
       "      <td>102.239319</td>\n",
       "      <td>50.962355</td>\n",
       "      <td>9.794702</td>\n",
       "      <td>83.448087</td>\n",
       "      <td>209.0</td>\n",
       "      <td>0.006880</td>\n",
       "      <td>0.000042</td>\n",
       "      <td>6.499405e-08</td>\n",
       "      <td>...</td>\n",
       "      <td>1.033463e-17</td>\n",
       "      <td>46</td>\n",
       "      <td>107.500000</td>\n",
       "      <td>198.0</td>\n",
       "      <td>1.296110</td>\n",
       "      <td>11.0</td>\n",
       "      <td>0.220001</td>\n",
       "      <td>5.203053</td>\n",
       "      <td>0.251366</td>\n",
       "      <td>1440</td>\n",
       "    </tr>\n",
       "  </tbody>\n",
       "</table>\n",
       "<p>5 rows × 23 columns</p>\n",
       "</div>"
      ],
      "text/plain": [
       "      area  solidity  perimeter_crofton  axis_major_length  axis_minor_length  \\\n",
       "1064    37  0.698113          31.028016          13.764001           4.156725   \n",
       "1322    64  0.727273          43.650203          17.181256           5.935178   \n",
       "1357    31  0.738095          30.702693          13.121992           3.335021   \n",
       "1370    37  0.578125          43.650203          13.440230           5.714420   \n",
       "1439   183  0.448529         102.239319          50.962355           9.794702   \n",
       "\n",
       "      intensity_mean  intensity_max  moments_weighted_hu-0  \\\n",
       "1064       22.216216           40.0               0.012666   \n",
       "1322       42.437500          111.0               0.005939   \n",
       "1357       14.129032           23.0               0.024725   \n",
       "1370       14.378378           18.0               0.024421   \n",
       "1439       83.448087          209.0               0.006880   \n",
       "\n",
       "      moments_weighted_hu-1  moments_weighted_hu-2  ...  \\\n",
       "1064               0.000106           4.787077e-07  ...   \n",
       "1322               0.000025           3.129123e-08  ...   \n",
       "1357               0.000477           1.160247e-06  ...   \n",
       "1370               0.000299           2.808683e-06  ...   \n",
       "1439               0.000042           6.499405e-08  ...   \n",
       "\n",
       "      moments_weighted_hu-6  skel_area  skel_int_mean  skel_int_max  \\\n",
       "1064           1.550085e-14         13      23.076923          40.0   \n",
       "1322          -9.170526e-17         16      53.750000         111.0   \n",
       "1357           8.029328e-14         11      15.090909          18.0   \n",
       "1370          -1.558522e-13         16      14.812500          18.0   \n",
       "1439           1.033463e-17         46     107.500000         198.0   \n",
       "\n",
       "      bg_int_mean  bg_int_max  circularity        AR  rel_skel  label  \n",
       "1064     1.826211        11.0     0.482952  3.311261  0.351351   1065  \n",
       "1322     0.914634        11.0     0.422102  2.894817  0.250000   1323  \n",
       "1357     1.864615         6.0     0.413255  3.934605  0.354839   1358  \n",
       "1370     1.299401        11.0     0.244028  2.351985  0.432432   1371  \n",
       "1439     1.296110        11.0     0.220001  5.203053  0.251366   1440  \n",
       "\n",
       "[5 rows x 23 columns]"
      ]
     },
     "execution_count": 21,
     "metadata": {},
     "output_type": "execute_result"
    }
   ],
   "source": [
    "df.head()"
   ]
  },
  {
   "cell_type": "markdown",
   "metadata": {},
   "source": [
    "## CREATE EXAMPLE CASES\n",
    "This is useful to understand what the scripts above are doing, and how you can further contribute to the pipeline"
   ]
  },
  {
   "cell_type": "code",
   "execution_count": 22,
   "metadata": {},
   "outputs": [
    {
     "data": {
      "text/html": [
       "<div>\n",
       "<style scoped>\n",
       "    .dataframe tbody tr th:only-of-type {\n",
       "        vertical-align: middle;\n",
       "    }\n",
       "\n",
       "    .dataframe tbody tr th {\n",
       "        vertical-align: top;\n",
       "    }\n",
       "\n",
       "    .dataframe thead th {\n",
       "        text-align: right;\n",
       "    }\n",
       "</style>\n",
       "<table border=\"1\" class=\"dataframe\">\n",
       "  <thead>\n",
       "    <tr style=\"text-align: right;\">\n",
       "      <th></th>\n",
       "      <th>area</th>\n",
       "      <th>solidity</th>\n",
       "      <th>perimeter_crofton</th>\n",
       "      <th>axis_major_length</th>\n",
       "      <th>axis_minor_length</th>\n",
       "      <th>label</th>\n",
       "      <th>circularity</th>\n",
       "      <th>AR</th>\n",
       "      <th>skel_area</th>\n",
       "      <th>rel_skel</th>\n",
       "    </tr>\n",
       "  </thead>\n",
       "  <tbody>\n",
       "    <tr>\n",
       "      <th>0</th>\n",
       "      <td>9</td>\n",
       "      <td>1.000000</td>\n",
       "      <td>17.850468</td>\n",
       "      <td>10.327956</td>\n",
       "      <td>1.000000</td>\n",
       "      <td>1</td>\n",
       "      <td>0.354939</td>\n",
       "      <td>10.327956</td>\n",
       "      <td>9</td>\n",
       "      <td>1.000000</td>\n",
       "    </tr>\n",
       "    <tr>\n",
       "      <th>1</th>\n",
       "      <td>2</td>\n",
       "      <td>1.000000</td>\n",
       "      <td>4.577636</td>\n",
       "      <td>2.000000</td>\n",
       "      <td>1.000000</td>\n",
       "      <td>2</td>\n",
       "      <td>1.199382</td>\n",
       "      <td>2.000000</td>\n",
       "      <td>2</td>\n",
       "      <td>1.000000</td>\n",
       "    </tr>\n",
       "    <tr>\n",
       "      <th>2</th>\n",
       "      <td>1373</td>\n",
       "      <td>0.966221</td>\n",
       "      <td>133.076765</td>\n",
       "      <td>41.811006</td>\n",
       "      <td>41.811006</td>\n",
       "      <td>3</td>\n",
       "      <td>0.974262</td>\n",
       "      <td>1.000000</td>\n",
       "      <td>1</td>\n",
       "      <td>0.000728</td>\n",
       "    </tr>\n",
       "    <tr>\n",
       "      <th>3</th>\n",
       "      <td>139</td>\n",
       "      <td>0.668269</td>\n",
       "      <td>63.626828</td>\n",
       "      <td>30.557411</td>\n",
       "      <td>8.211883</td>\n",
       "      <td>4</td>\n",
       "      <td>0.431464</td>\n",
       "      <td>3.721121</td>\n",
       "      <td>22</td>\n",
       "      <td>0.158273</td>\n",
       "    </tr>\n",
       "    <tr>\n",
       "      <th>4</th>\n",
       "      <td>26</td>\n",
       "      <td>0.254902</td>\n",
       "      <td>49.473313</td>\n",
       "      <td>28.295148</td>\n",
       "      <td>6.230294</td>\n",
       "      <td>5</td>\n",
       "      <td>0.133488</td>\n",
       "      <td>4.541543</td>\n",
       "      <td>24</td>\n",
       "      <td>0.923077</td>\n",
       "    </tr>\n",
       "  </tbody>\n",
       "</table>\n",
       "</div>"
      ],
      "text/plain": [
       "   area  solidity  perimeter_crofton  axis_major_length  axis_minor_length  \\\n",
       "0     9  1.000000          17.850468          10.327956           1.000000   \n",
       "1     2  1.000000           4.577636           2.000000           1.000000   \n",
       "2  1373  0.966221         133.076765          41.811006          41.811006   \n",
       "3   139  0.668269          63.626828          30.557411           8.211883   \n",
       "4    26  0.254902          49.473313          28.295148           6.230294   \n",
       "\n",
       "   label  circularity         AR  skel_area  rel_skel  \n",
       "0      1     0.354939  10.327956          9  1.000000  \n",
       "1      2     1.199382   2.000000          2  1.000000  \n",
       "2      3     0.974262   1.000000          1  0.000728  \n",
       "3      4     0.431464   3.721121         22  0.158273  \n",
       "4      5     0.133488   4.541543         24  0.923077  "
      ]
     },
     "execution_count": 22,
     "metadata": {},
     "output_type": "execute_result"
    },
    {
     "data": {
      "image/png": "[encoded data removed]",
      "text/plain": [
       "<Figure size 720x720 with 2 Axes>"
      ]
     },
     "metadata": {
      "needs_background": "light"
     },
     "output_type": "display_data"
    }
   ],
   "source": [
    "#SOME EXAMPLE TEST CASES\n",
    "#Circle, similar to the autofluorescence of a lumen.\n",
    "g = np.zeros(shape=(100,100), dtype=int)\n",
    "yc = xc = 29\n",
    "R=21\n",
    "for ix in range(100):\n",
    "    for iy in range(100):\n",
    "        thisRsq = (ix-xc)**2 + (iy-yc)**2\n",
    "        if thisRsq <= R**2:\n",
    "            g[ix,iy] = 3\n",
    "\n",
    "#large lumen like edge\n",
    "yc = xc = 70\n",
    "R=21\n",
    "for ix in range(100):\n",
    "    for iy in range(100):\n",
    "        thisRsq = (ix-xc)**2 + (iy-yc)**2\n",
    "        if thisRsq <= R**2:\n",
    "            if (thisRsq>(R-5)**2) and (ix>xc) & (iy>yc):\n",
    "                g[ix,iy]=4\n",
    "\n",
    "#small, neuron-like twisting thing. \n",
    "xc = 29\n",
    "yc = 70\n",
    "R=18\n",
    "for ix in range(100):\n",
    "    for iy in range(100):\n",
    "        thisRsq = (ix-xc)**2 + (iy-yc)**2\n",
    "        if thisRsq <= R**2:\n",
    "            if (thisRsq>(R-1)**2) and (ix<xc) & (iy>yc):\n",
    "                g[ix,iy]=5\n",
    "\n",
    "g[2:3,1:10]=1 #long rectangle\n",
    "\n",
    "g[10,2:4]=2 #small rectangle \n",
    "import matplotlib.pyplot as plt\n",
    "fig, (ax1,ax2) = plt.subplots(1,2,figsize=(10,10))\n",
    "ax1.imshow(g)\n",
    "pp = regionprops_table(label_image=g,properties=('area', 'solidity', 'perimeter_crofton', 'axis_major_length', 'axis_minor_length', 'label'))\n",
    "pp = pd.DataFrame(pp)\n",
    "pp['axis_minor_length'].where(pp['axis_minor_length'] >= 1, 1, inplace=True) # if you have a thin line, the minor axis length is often zero. \n",
    "#pp['axis_major_length'].where(pp['axis_major_length'] >= 1, 1, inplace=True) # if you have a single pixel, the major axis length is often zero. \n",
    "pp['circularity'] = 4*np.pi*pp['area'] / (pp['perimeter_crofton']*pp['perimeter_crofton'])\n",
    "pp['AR'] = pp['axis_major_length'] / pp['axis_minor_length']\n",
    "\n",
    "#what happens if we skeletonize g?\n",
    "skel_pp = skeletonize(g>0)\n",
    "skel_pp = np.where(skel_pp,g,0)\n",
    "ax2.imshow(skel_pp)\n",
    "skprops = regionprops_table(label_image=skel_pp, properties=('area', 'label'))\n",
    "skprops = pd.DataFrame(skprops)\n",
    "skprops.rename(columns={'area': 'skel_area'},inplace=True)\n",
    "pp = pp.merge(skprops, left_on='label', right_on='label')\n",
    "pp['rel_skel'] = pp['skel_area'] / pp['area']#pp['skel_area'] * 2 / pp['perimeter_crofton']\n",
    "\n",
    "pp"
   ]
  },
  {
   "cell_type": "code",
   "execution_count": 21,
   "metadata": {},
   "outputs": [
    {
     "name": "stdout",
     "output_type": "stream",
     "text": [
      "rescaling preprocessed output\n",
      "subtracting background\n",
      " #################### [100.00%]"
     ]
    },
    {
     "data": {
      "image/png": "[encoded data removed]",
      "text/plain": [
       "<Figure size 1080x1080 with 2 Axes>"
      ]
     },
     "metadata": {
      "needs_background": "light"
     },
     "output_type": "display_data"
    }
   ],
   "source": [
    "#WHITE HAT OPERATION!!!\n",
    "img = copy.deepcopy(g)#io.imread(path) #loads as a uint16\n",
    "img = img > 0 # right now, img is label.\n",
    "img = img.astype(np.float32)\n",
    "#print('preprocessing image')\n",
    "img = preprocess_image_v4(img,im_max=1.0) #auto adjust brightness by scaling percentiles, and use rolling ball subtraction.\n",
    "#img_not = np.invert(img)\n",
    "se = rectangle(5,2) #https://scikit-image.org/docs/stable/auto_examples/numpy_operations/plot_structuring_elements.html\n",
    "#opened = opening(img_not, se) #https://stackoverflow.com/questions/70200419/why-skimage-white-tophat-is-different-from-manually-achieved-top-hat\n",
    "#https://en.wikipedia.org/wiki/Top-hat_transform\n",
    "angles = list(range(0,180,15))\n",
    "out = np.zeros_like(img)\n",
    "for ai,angle in enumerate(angles):\n",
    "    progbar(ai, len(angles), 20)\n",
    "    #rotation matrix. \n",
    "    rotated_se = rotate(se, angle=angle)\n",
    "    #wth_my = img_not - opened\n",
    "    wth = white_tophat(img, rotated_se)\n",
    "    out = np.where(wth>out, wth, out)\n",
    "    # closed = closing(img, se)\n",
    "    # blh_my = closed - img\n",
    "    #io.imsave(pths[0]+'_white_hat_man.png', wth_my) #write as a png file\n",
    "progbar(len(angles), len(angles), 20)\n",
    "#pths = os.path.splitext(path) #get file name and path.\n",
    "#io.imsave(pths[0]+'_white_hat.png', out) #write as a png file\n",
    "fig,(ax1,ax2) = plt.subplots(1,2,figsize=(15,15))\n",
    "ax1.imshow(img)\n",
    "ax2.imshow(out)\n",
    "plt.show()\n"
   ]
  },
  {
   "cell_type": "markdown",
   "metadata": {},
   "source": [
    "## EMBEDDING TO REMOVE ANY NON-OBJECT OBJECTS"
   ]
  },
  {
   "cell_type": "markdown",
   "metadata": {},
   "source": [
    "#### Do PCA operation first, if you wish to perform dimensionality reduction prior to embedding"
   ]
  },
  {
   "cell_type": "code",
   "execution_count": 30,
   "metadata": {},
   "outputs": [],
   "source": [
    "from sklearn.preprocessing import StandardScaler\n",
    "columns = list(df.columns)\n",
    "del columns[-1] #cell label.\n",
    "GG = df.copy()\n",
    "intensity_data = GG[columns].values\n",
    "scaled_intensity_data = StandardScaler().fit_transform(intensity_data)"
   ]
  },
  {
   "cell_type": "code",
   "execution_count": 13,
   "metadata": {},
   "outputs": [
    {
     "data": {
      "image/png": "[encoded data removed]",
      "text/plain": [
       "<Figure size 432x288 with 1 Axes>"
      ]
     },
     "metadata": {
      "needs_background": "light"
     },
     "output_type": "display_data"
    }
   ],
   "source": [
    "from sklearn.decomposition import PCA \n",
    "pca = PCA(n_components=2)\n",
    "pca_data = pca.fit_transform(scaled_intensity_data)\n",
    "import matplotlib.pyplot as plt \n",
    "plt.scatter(pca_data[:,0], pca_data[:,1])\n",
    "plt.show()"
   ]
  },
  {
   "cell_type": "markdown",
   "metadata": {},
   "source": [
    "### UMAP EMBEDDING\n",
    "Note change code here if you wish to use PCA reduced data."
   ]
  },
  {
   "cell_type": "code",
   "execution_count": 31,
   "metadata": {},
   "outputs": [
    {
     "name": "stderr",
     "output_type": "stream",
     "text": [
      "/Users/eddyc/opt/anaconda3/envs/cyc_IF/lib/python3.7/site-packages/tqdm/auto.py:22: TqdmWarning: IProgress not found. Please update jupyter and ipywidgets. See https://ipywidgets.readthedocs.io/en/stable/user_install.html\n",
      "  from .autonotebook import tqdm as notebook_tqdm\n"
     ]
    }
   ],
   "source": [
    "import umap\n",
    "reducer = umap.UMAP()"
   ]
  },
  {
   "cell_type": "code",
   "execution_count": 32,
   "metadata": {},
   "outputs": [
    {
     "data": {
      "image/png": "[encoded data removed]",
      "text/plain": [
       "<Figure size 432x288 with 1 Axes>"
      ]
     },
     "metadata": {
      "needs_background": "light"
     },
     "output_type": "display_data"
    }
   ],
   "source": [
    "embedding = reducer.fit_transform(scaled_intensity_data)\n",
    "plt.scatter(embedding[:,0],embedding[:,1])\n",
    "plt.show()"
   ]
  },
  {
   "cell_type": "markdown",
   "metadata": {},
   "source": [
    "### K-Means Clustering\n",
    "change n_clusters as needed"
   ]
  },
  {
   "cell_type": "code",
   "execution_count": 34,
   "metadata": {},
   "outputs": [
    {
     "data": {
      "image/png": "[encoded data removed]",
      "text/plain": [
       "<Figure size 432x288 with 1 Axes>"
      ]
     },
     "metadata": {
      "needs_background": "light"
     },
     "output_type": "display_data"
    }
   ],
   "source": [
    "from sklearn.cluster import KMeans\n",
    "n_clusters = 5\n",
    "kmeans = KMeans(n_clusters=n_clusters, random_state=0).fit(embedding)\n",
    "colors = ['r','g','b','y','m']\n",
    "for cluster in range(n_clusters):\n",
    "    plt.scatter(embedding[kmeans.labels_==cluster,0],embedding[kmeans.labels_==cluster,1], c=colors[cluster])\n",
    "plt.show()\n"
   ]
  },
  {
   "cell_type": "markdown",
   "metadata": {},
   "source": [
    "#### Write clusters to images!"
   ]
  },
  {
   "cell_type": "code",
   "execution_count": 36,
   "metadata": {},
   "outputs": [
    {
     "name": "stdout",
     "output_type": "stream",
     "text": [
      "0\n"
     ]
    },
    {
     "name": "stderr",
     "output_type": "stream",
     "text": [
      "/Users/eddyc/opt/anaconda3/envs/cyc_IF/lib/python3.7/site-packages/ipykernel_launcher.py:7: UserWarning: /users/eddyc/documents/project_2/test_eval/test/48411_Scene XXX - TUBB3 SBcells_cluster_0.png is a boolean image: setting True to 255 and False to 0. To silence this warning, please convert the image using img_as_ubyte.\n",
      "  import sys\n",
      "/Users/eddyc/opt/anaconda3/envs/cyc_IF/lib/python3.7/site-packages/ipykernel_launcher.py:7: UserWarning: /users/eddyc/documents/project_2/test_eval/test/48411_Scene XXX - TUBB3 SBcells_cluster_0.png is a low contrast image\n",
      "  import sys\n"
     ]
    },
    {
     "name": "stdout",
     "output_type": "stream",
     "text": [
      "1\n"
     ]
    },
    {
     "name": "stderr",
     "output_type": "stream",
     "text": [
      "/Users/eddyc/opt/anaconda3/envs/cyc_IF/lib/python3.7/site-packages/ipykernel_launcher.py:7: UserWarning: /users/eddyc/documents/project_2/test_eval/test/48411_Scene XXX - TUBB3 SBcells_cluster_1.png is a boolean image: setting True to 255 and False to 0. To silence this warning, please convert the image using img_as_ubyte.\n",
      "  import sys\n",
      "/Users/eddyc/opt/anaconda3/envs/cyc_IF/lib/python3.7/site-packages/ipykernel_launcher.py:7: UserWarning: /users/eddyc/documents/project_2/test_eval/test/48411_Scene XXX - TUBB3 SBcells_cluster_1.png is a low contrast image\n",
      "  import sys\n"
     ]
    },
    {
     "name": "stdout",
     "output_type": "stream",
     "text": [
      "2\n"
     ]
    },
    {
     "name": "stderr",
     "output_type": "stream",
     "text": [
      "/Users/eddyc/opt/anaconda3/envs/cyc_IF/lib/python3.7/site-packages/ipykernel_launcher.py:7: UserWarning: /users/eddyc/documents/project_2/test_eval/test/48411_Scene XXX - TUBB3 SBcells_cluster_2.png is a boolean image: setting True to 255 and False to 0. To silence this warning, please convert the image using img_as_ubyte.\n",
      "  import sys\n",
      "/Users/eddyc/opt/anaconda3/envs/cyc_IF/lib/python3.7/site-packages/ipykernel_launcher.py:7: UserWarning: /users/eddyc/documents/project_2/test_eval/test/48411_Scene XXX - TUBB3 SBcells_cluster_2.png is a low contrast image\n",
      "  import sys\n"
     ]
    },
    {
     "name": "stdout",
     "output_type": "stream",
     "text": [
      "3\n"
     ]
    },
    {
     "name": "stderr",
     "output_type": "stream",
     "text": [
      "/Users/eddyc/opt/anaconda3/envs/cyc_IF/lib/python3.7/site-packages/ipykernel_launcher.py:7: UserWarning: /users/eddyc/documents/project_2/test_eval/test/48411_Scene XXX - TUBB3 SBcells_cluster_3.png is a boolean image: setting True to 255 and False to 0. To silence this warning, please convert the image using img_as_ubyte.\n",
      "  import sys\n",
      "/Users/eddyc/opt/anaconda3/envs/cyc_IF/lib/python3.7/site-packages/ipykernel_launcher.py:7: UserWarning: /users/eddyc/documents/project_2/test_eval/test/48411_Scene XXX - TUBB3 SBcells_cluster_3.png is a low contrast image\n",
      "  import sys\n"
     ]
    },
    {
     "name": "stdout",
     "output_type": "stream",
     "text": [
      "4\n"
     ]
    },
    {
     "name": "stderr",
     "output_type": "stream",
     "text": [
      "/Users/eddyc/opt/anaconda3/envs/cyc_IF/lib/python3.7/site-packages/ipykernel_launcher.py:7: UserWarning: /users/eddyc/documents/project_2/test_eval/test/48411_Scene XXX - TUBB3 SBcells_cluster_4.png is a boolean image: setting True to 255 and False to 0. To silence this warning, please convert the image using img_as_ubyte.\n",
      "  import sys\n",
      "/Users/eddyc/opt/anaconda3/envs/cyc_IF/lib/python3.7/site-packages/ipykernel_launcher.py:7: UserWarning: /users/eddyc/documents/project_2/test_eval/test/48411_Scene XXX - TUBB3 SBcells_cluster_4.png is a low contrast image\n",
      "  import sys\n"
     ]
    }
   ],
   "source": [
    "for cluster in range(n_clusters):\n",
    "    print(cluster)\n",
    "    out = np.zeros(shape=img.shape,dtype=np.bool_)\n",
    "    for lab in GG.iloc[:,-1].values[np.argwhere(kmeans.labels_==cluster).flatten()]: #the last column is the cell label from skimage.\n",
    "        out[lab_im==lab]=True\n",
    "    pths = os.path.splitext(path) #get file name and path.\n",
    "    io.imsave(pths[0]+'_cluster_{}.png'.format(cluster), out) #write as a png file\n"
   ]
  },
  {
   "cell_type": "code",
   "execution_count": 42,
   "metadata": {},
   "outputs": [
    {
     "data": {
      "text/plain": [
       "array([2, 0, 1, 0, 2, 1, 1, 2, 2, 2, 1, 2, 2, 1, 1, 1, 0, 0, 2, 1, 0, 0,\n",
       "       1, 0, 2, 2, 1, 1, 0, 2, 0, 0, 2, 2, 1, 1, 2, 1, 1, 2, 2, 1, 2, 0,\n",
       "       0, 1, 2, 0, 2, 2, 0, 2, 1, 2, 2, 0, 0, 2, 2, 2, 2, 1, 1, 2, 2, 1,\n",
       "       0, 0], dtype=int32)"
      ]
     },
     "execution_count": 42,
     "metadata": {},
     "output_type": "execute_result"
    }
   ],
   "source": [
    "kmeans.labels_"
   ]
  },
  {
   "cell_type": "code",
   "execution_count": 41,
   "metadata": {},
   "outputs": [
    {
     "data": {
      "text/plain": [
       "array([ 1,  3, 16, 17, 20, 21, 23, 28, 30, 31, 43, 44, 47, 50, 55, 56, 66,\n",
       "       67])"
      ]
     },
     "execution_count": 41,
     "metadata": {},
     "output_type": "execute_result"
    }
   ],
   "source": [
    "np.argwhere(kmeans.labels_==0).flatten()"
   ]
  },
  {
   "cell_type": "code",
   "execution_count": 46,
   "metadata": {},
   "outputs": [
    {
     "data": {
      "text/plain": [
       "array([   10,   556,   685,  1306,  1341,  2101,  2363,  2384,  2410,\n",
       "        2620,  2809,  2812,  2821,  3019,  3068,  3918,  4109,  4233,\n",
       "        4500,  4669,  4726,  4782,  5543,  5672,  5716,  5995,  6032,\n",
       "        6084,  6145,  6232,  6284,  6286,  6377,  6436,  6638,  6948,\n",
       "        7073,  7772,  7784,  8025,  8099,  8749,  8976,  9126,  9135,\n",
       "        9226,  9260,  9294,  9419,  9503,  9590,  9675,  9758,  9759,\n",
       "        9787,  9900, 10115, 10371, 10460, 10491, 10555, 10629, 10919,\n",
       "       11310, 11452, 11490, 11530, 11550])"
      ]
     },
     "execution_count": 46,
     "metadata": {},
     "output_type": "execute_result"
    }
   ],
   "source": [
    "df.iloc[:,-3].values"
   ]
  },
  {
   "cell_type": "code",
   "execution_count": 47,
   "metadata": {},
   "outputs": [
    {
     "data": {
      "text/plain": [
       "array([  556,  1306,  4109,  4233,  4726,  4782,  5672,  6145,  6284,\n",
       "        6286,  9126,  9135,  9294,  9590,  9900, 10115, 11530, 11550])"
      ]
     },
     "execution_count": 47,
     "metadata": {},
     "output_type": "execute_result"
    }
   ],
   "source": [
    "df.iloc[:,-3].values[np.argwhere(kmeans.labels_==cluster).flatten()]"
   ]
  },
  {
   "cell_type": "code",
   "execution_count": null,
   "metadata": {},
   "outputs": [],
   "source": []
  },
  {
   "cell_type": "code",
   "execution_count": null,
   "metadata": {},
   "outputs": [],
   "source": [
    "def tile_image(image, tile_size, p_overlap=0.25):\n",
    "\t\"\"\"\n",
    "\tNeed a function to run detection on images which are too big.\n",
    "\tGoal: (1) Tile, hold positions\n",
    "\t\t\t(2) Run detection on images.\n",
    "\t\t\tThese should be loaded into detect.\n",
    "\t\t\tWe either need to rework detect, or run_inference.\n",
    "\tNeed to return \"tiles\" with keys (see stitch_image). but put in entry for locs.\n",
    "\tMake overlap at least 50% of the tile_size\n",
    "\timage should be size\n",
    "\t\"\"\"\n",
    "\tassert p_overlap<=1, \"overlap percentage (decimal) must be less than 1\"\n",
    "\th_im, w_im = image.shape[:2]\n",
    "\ttile_size = int(tile_size)\n",
    "\tp_tile = int(np.ceil(tile_size*p_overlap))\n",
    "\tn_slices_vert = int(np.ceil(h_im / p_tile))\n",
    "\tn_slices_horz = int(np.ceil(w_im / p_tile))\n",
    "\n",
    "\t#Decide padding, if necessary.\n",
    "\tif h_im<n_slices_horz*p_tile:\n",
    "\t\tn_pad_rows = n_slices_vert*p_tile - h_im\n",
    "\telse:\n",
    "\t\tn_pad_rows = 0\n",
    "\tif w_im<n_slices_horz*p_tile:\n",
    "\t\tn_pad_cols = n_slices_horz*p_tile - w_im\n",
    "\telse:\n",
    "\t\tn_pad_cols = 0\n",
    "\n",
    "\t#apply padding to bottom row and last column only.\n",
    "\tIm_pad = copy.deepcopy(image)\n",
    "\n",
    "\t#THE PADDING HERE IS A PROBLEM IN DETECTION. It introduces a lot of noise in the detection.\n",
    "\t#We may instead want to end the last image differently. Or, mirror it.\n",
    "\t#break image into tiles.\n",
    "\t#reflect doesn't work, since in CellPose, you need to calculate gradients.\n",
    "\t#instead, we need to take last images differently.\n",
    "\n",
    "\t#determine start points for tiles to run detection on.\n",
    "\t#if doing padding, the next commented line works.\n",
    "\t#locs = [((ri,ri+tile_size),(ci,ci+tile_size)) for ri in range(0,h_im,p_tile) for ci in range(0, w_im, p_tile)]\n",
    "\t#the following code is for non-padded.\n",
    "\tlocs=[]\n",
    "\tfor ri in range(0,h_im,p_tile):\n",
    "\t\tfor ci in range(0,w_im,p_tile):\n",
    "\t\t\tif ri+tile_size>h_im and ci+tile_size>w_im: #we are at the sets pf rows and columns\n",
    "\t\t\t\tlocs.append(((h_im-tile_size,h_im),(w_im-tile_size,w_im)))\n",
    "\t\t\telif ri+tile_size>h_im and ci+tile_size<=w_im: #we are at the last set of rows\n",
    "\t\t\t\tlocs.append(((h_im-tile_size,h_im),(ci,ci+tile_size)))\n",
    "\t\t\telif ri+tile_size<=h_im and ci+tile_size>w_im: #we are at the last set of columns\n",
    "\t\t\t\tlocs.append(((ri,ri+tile_size),(w_im-tile_size,w_im)))\n",
    "\t\t\telse: #\n",
    "\t\t\t\tlocs.append(((ri,ri+tile_size),(ci,ci+tile_size)))\n",
    "\t#There is overlap in these tiles. In CellPose, there is also edge effects when calculating\n",
    "\t#the gradients. Therefore, we want to only take the inner portions of each image.\n",
    "\t#Determine the acceptable windows of each tile image to use.\n",
    "\ttrim_amount = int((1-p_overlap)*tile_size/2)\n",
    "\t#hmins = [ri + trim_amount if ri>0 else 0 for ri in range(0,h_im,p_tile)]#for ((ri,_),(_,_)) in locs]\n",
    "\thmins = [0 if ri==0 else ri + trim_amount if ri + trim_amount <= h_im else ind*tile_size for ind,ri in enumerate(range(0,h_im,p_tile))]#for ((ri,_),(_,_)) in locs]\n",
    "\t#hmaxs = [ri + tile_size - trim_amount if ri + tile_size < h_im else ri + tile_size for ri in range(0,h_im,p_tile)]\n",
    "\thmaxs = [ri + tile_size - trim_amount if ri + tile_size < h_im else h_im for ri in range(0,h_im,p_tile)]\n",
    "\t#wmins = [wi + trim_amount if wi>0 else 0 for wi in range(0, w_im, p_tile)]#for ((_,_),(wi,_)) in locs]\n",
    "\twmins = [0 if wi==0 else wi + trim_amount if wi + trim_amount <= w_im else ind*tile_size for ind,wi in enumerate(range(0,w_im,p_tile))]#for ((ri,_),(_,_)) in locs]\n",
    "\t#wmaxs = [wi + tile_size - trim_amount if wi + tile_size < w_im else wi + tile_size for wi in range(0, w_im, p_tile)]\n",
    "\twmaxs = [wi + tile_size - trim_amount if wi + tile_size < w_im else w_im for wi in range(0, w_im, p_tile)]\n",
    "\n",
    "\t#locs looks like list of each tile's (initial row, final row), (initial column, final column)\n",
    "\t#im_tiles = [Im_pad[ri:rend,ci:cend] for (ri,rend,ci,cend) in tiles['windows']]\n",
    "\tim_tiles = [Im_pad[x[0][0]:x[0][1],x[1][0]:x[1][1]] for x in locs]\n",
    "\t#import pdb;pdb.set_trace()\n",
    "\n",
    "\trows = list(zip(hmins,hmaxs))\n",
    "\tcols = list(zip(wmins,wmaxs))\n",
    "\timport itertools\n",
    "\twindows = list(itertools.product(rows,cols))\n",
    "\twindows = [tuple(x[0] + x[1]) for x in windows]\n",
    "\t#create tiles dictionary\n",
    "\ttiles = {}\n",
    "\t#tiles['locs']=locs\n",
    "\ttiles['padding']=[n_pad_rows,n_pad_cols]\n",
    "\ttiles['init_shape']=(h_im,w_im)\n",
    "\ttiles['dtype']=image.dtype\n",
    "\ttiles['trim']=trim_amount\n",
    "\ttiles['windows']=windows\n",
    "\ttiles['mask']=[]\n",
    "\t#verify locs and windows line up. Checked, looks good.\n",
    "\treturn tiles, im_tiles\n",
    "\n",
    "def stitch_image(tile_size, tiles):\n",
    "\t\"\"\"\n",
    "\ttiles should be a dictionary, with args 'windows','dtype', 'image', 'mask', 'padding', 'init_shape'\n",
    "\teach key should be a list with tiles.\n",
    "\tHow do we stitch together the predicted grads?\n",
    "\tWell, whereever the mask is on the border, we want to erase it.\n",
    "\tTherefore, use np.where and make the grads also zero wherever the mask is at on the border\n",
    "\tThen, just use max arg for edges.\n",
    "\t\"\"\"\n",
    "\n",
    "\t#for image, stitch together using max projection\n",
    "\tshape_to=tiles['init_shape']#[int(np.sum(el)) for el in zip(list(tiles['init_shape']),tiles['padding'])]\n",
    "\timage = np.zeros(shape=tuple(shape_to), dtype = tiles['dtype'])\n",
    "\n",
    "\n",
    "\tfor tile_i in range(len(tiles['image'])):\n",
    "\t\t#x = tiles['locs'][tile_i]\n",
    "\t\t(ri,rend,ci,cend) = tiles['windows'][tile_i] #these are placements into image.\n",
    "\n",
    "\t\tif ri==0:\n",
    "\t\t\trstart = 0\n",
    "\t\telif rend==tiles['init_shape'][0]:\n",
    "\t\t\trstart = tile_size-(rend-ri)\n",
    "\t\telse:\n",
    "\t\t\trstart = tiles['trim']\n",
    "\t\tif ci==0:\n",
    "\t\t\tcstart = 0\n",
    "\t\telif cend==tiles['init_shape'][1]:\n",
    "\t\t\tcstart=tile_size-(cend-ci)\n",
    "\t\telse:\n",
    "\t\t\tcstart = tiles['trim']\n",
    "\t\tif rend < tiles['init_shape'][0]:\n",
    "\t\t\trstop = tile_size - tiles['trim']\n",
    "\t\telse:\n",
    "\t\t\trstop = tile_size\n",
    "\t\tif cend < tiles['init_shape'][1]:\n",
    "\t\t\tcstop = tile_size - tiles['trim']\n",
    "\t\telse:\n",
    "\t\t\tcstop = tile_size\n",
    "\t\t#so to be clear, rstart,rstop,cstart,cstop are the indices for the tile.\n",
    "\t\t#import pdb;pdb.set_trace()\n",
    "\t\tif len(tiles['image'][tile_i].shape)==3:\n",
    "\t\t\tthis_im = tiles['image'][tile_i][rstart:rstop,cstart:cstop,0] #note the 0 is just since there was an added channel.\n",
    "\t\telse:\n",
    "\t\t\tthis_im = tiles['image'][tile_i][rstart:rstop,cstart:cstop]\n",
    "\t\timage[ri:rend,ci:cend] = this_im\n",
    "\n",
    "\n",
    "\t#for mask, remove objects that are on the border. For deleted pixels, delete the same Pixels\n",
    "\t#from xgrad and ygrad.\n",
    "\tmask = np.zeros(shape=tuple(shape_to)+(tiles['channels'],), dtype = tiles['mask'][0].dtype)\n",
    "\n",
    "\t#entered_array = np.zeros(shape=tuple(shape_to)) #keeps track of where pixels have been placed.\n",
    "\n",
    "\t#from skimage.measure import label\n",
    "\t#The way \"clear_border\" works is that it assumes 8-bit connectivity.\n",
    "\t#You can change that by first labeling the image\n",
    "\t#from skimage.segmentation import clear_border\n",
    "\tfor tile_i in range(len(tiles['image'])):\n",
    "\n",
    "\t\t(ri,rend,ci,cend) = tiles['windows'][tile_i] #these are placements into image.\n",
    "\n",
    "\t\tif ri==0:\n",
    "\t\t\trstart = 0\n",
    "\t\telif rend==tiles['init_shape'][0]:\n",
    "\t\t\trstart = tile_size-(rend-ri)\n",
    "\t\telse:\n",
    "\t\t\trstart = tiles['trim']\n",
    "\t\tif ci==0:\n",
    "\t\t\tcstart = 0\n",
    "\t\telif cend==tiles['init_shape'][1]:\n",
    "\t\t\tcstart=tile_size-(cend-ci)\n",
    "\t\telse:\n",
    "\t\t\tcstart = tiles['trim']\n",
    "\t\tif rend < tiles['init_shape'][0]:\n",
    "\t\t\trstop = tile_size - tiles['trim']\n",
    "\t\telse:\n",
    "\t\t\trstop = tile_size\n",
    "\t\tif cend < tiles['init_shape'][1]:\n",
    "\t\t\tcstop = tile_size - tiles['trim']\n",
    "\t\telse:\n",
    "\t\t\tcstop = tile_size\n",
    "\n",
    "\n",
    "\t\tthis_mask = tiles['mask'][tile_i][rstart:rstop,cstart:cstop,:]\n",
    "\n",
    "\t\tmask[ri:rend,ci:cend,:] = this_mask\n",
    "\n",
    "\n",
    "\timage = image[0:tiles['init_shape'][0],0:tiles['init_shape'][1]]\n",
    "\tmask = mask[0:tiles['init_shape'][0],0:tiles['init_shape'][1],:]\n",
    "\n",
    "\treturn image, mask"
   ]
  },
  {
   "cell_type": "code",
   "execution_count": null,
   "metadata": {},
   "outputs": [],
   "source": []
  }
 ],
 "metadata": {
  "kernelspec": {
   "display_name": "Python (cyc_IF)",
   "language": "python",
   "name": "cyc_if"
  },
  "language_info": {
   "codemirror_mode": {
    "name": "ipython",
    "version": 3
   },
   "file_extension": ".py",
   "mimetype": "text/x-python",
   "name": "python",
   "nbconvert_exporter": "python",
   "pygments_lexer": "ipython3",
   "version": "3.7.12"
  },
  "vscode": {
   "interpreter": {
    "hash": "f2a7b7e86a3f7e2c728dd07cbb153fa81584c143aea69f9d3b42dd14e75eb2fd"
   }
  }
 },
 "nbformat": 4,
 "nbformat_minor": 2
}
